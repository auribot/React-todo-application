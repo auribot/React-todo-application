{
 "cells": [
  {
   "cell_type": "markdown",
   "id": "a5f68338",
   "metadata": {},
   "source": [
    "#### Q. W. A P. which takes one number from 0 to 9 from the user and prints it in the word. And if the word is not from 0 to 9 then it should print that number is outside of the range and program should exit."
   ]
  },
  {
   "cell_type": "code",
   "execution_count": 2,
   "id": "bbdf8689",
   "metadata": {},
   "outputs": [
    {
     "name": "stdout",
     "output_type": "stream",
     "text": [
      "Enter a number between 0 to 9:7\n",
      "Seven\n"
     ]
    }
   ],
   "source": [
    "a = int(input(\"Enter a number between 0 to 9:\"))\n",
    "if (a == 0):\n",
    "    print(\"Zero\")\n",
    "elif (a == 1):\n",
    "    print(\"One\")\n",
    "elif (a == 2):\n",
    "    print(\"Two\")\n",
    "elif (a == 3):\n",
    "    print(\"Three\")\n",
    "elif (a == 4):\n",
    "    print(\"Four\")\n",
    "elif (a == 5):\n",
    "    print(\"Five\")\n",
    "elif (a == 6):\n",
    "    print(\"Six\")\n",
    "elif (a == 7):\n",
    "    print(\"Seven\")\n",
    "elif (a == 8):\n",
    "    print(\"Eight\")\n",
    "elif (a == 9):\n",
    "    print(\"Nine\")\n",
    "else:\n",
    "    print(\"We don't have word representation for that number\")\n",
    "    "
   ]
  },
  {
   "cell_type": "code",
   "execution_count": 19,
   "id": "682afb6f",
   "metadata": {},
   "outputs": [
    {
     "name": "stdout",
     "output_type": "stream",
     "text": [
      "Enter a number between 0 to 9:7\n",
      "Seven\n"
     ]
    }
   ],
   "source": [
    "n = int(input(\"Enter a number between 0 to 9:\"))\n",
    "m = ['Zero', 'one', 'Two', 'Three', 'Four', 'Five', 'Six', 'Seven', 'Eight', 'Nine']\n",
    "for a in range(0,len(m)):\n",
    "    if a==n:\n",
    "        print(m[a])\n",
    "if n>9:\n",
    "    print('The number is outside of the range')    \n",
    "        \n",
    "    "
   ]
  },
  {
   "cell_type": "markdown",
   "id": "5570bdd5",
   "metadata": {},
   "source": [
    "#### Q.W. A P. to implement calculator but the operation to be done and two numbers will be taken as input from user:-\n",
    "Operation console should show below:-\n",
    "\n",
    "Please select any one operation from below:-\n",
    "* To add enter 1\n",
    "* to subtract enter 2\n",
    "* To multiply enter 3\n",
    "* To divide enter 4\n",
    "* To divide and find quotient enter 5\n",
    "* To divide and find remainder enter 6\n",
    "* To divide and find num1 to the power of num2 enter 7\n",
    "* To Come out of the program enter 8"
   ]
  },
  {
   "cell_type": "code",
   "execution_count": 2,
   "id": "66ddbff5",
   "metadata": {},
   "outputs": [
    {
     "name": "stdout",
     "output_type": "stream",
     "text": [
      "Enter the first number:7\n",
      "Enter the second number:8\n",
      "Enter the third number:3\n",
      "56\n"
     ]
    }
   ],
   "source": [
    "a = int(input('Enter the first number:'))\n",
    "b = int(input('Enter the second number:'))\n",
    "c = int(input('Enter the third number:'))\n",
    "if c==1:\n",
    "    print(a+b)\n",
    "elif c==2:\n",
    "    print(a-b)\n",
    "elif c==3:\n",
    "    print(a*b)\n",
    "elif c==4:\n",
    "    print(a/b)\n",
    "elif c==5:\n",
    "    print(a//b)\n",
    "elif c==6:\n",
    "    print(a%b)\n",
    "elif c==7:\n",
    "    print(a**b)\n",
    "else:\n",
    "    print('Exit')"
   ]
  },
  {
   "cell_type": "markdown",
   "id": "5c8ddd53",
   "metadata": {},
   "source": [
    "#### Q. W A P to check whether a year entered by user is an leap year or not ?\n",
    "Check with below input:-\n",
    "\n",
    "leap year:- 2012 , 1968 , 2004 , 1200 , 1600 , 2400\n",
    "\n",
    "Non-lear year:- 1971 , 2006 , 1700 , 1800 , 1900"
   ]
  },
  {
   "cell_type": "code",
   "execution_count": null,
   "id": "ea711e04",
   "metadata": {},
   "outputs": [],
   "source": [
    "a = int(input('Enter the year:'))\n",
    "if a==2012 and a=2012:\n",
    "    print('Leap Year')\n",
    "elif a==1968 and a"
   ]
  }
 ],
 "metadata": {
  "kernelspec": {
   "display_name": "Python 3 (ipykernel)",
   "language": "python",
   "name": "python3"
  },
  "language_info": {
   "codemirror_mode": {
    "name": "ipython",
    "version": 3
   },
   "file_extension": ".py",
   "mimetype": "text/x-python",
   "name": "python",
   "nbconvert_exporter": "python",
   "pygments_lexer": "ipython3",
   "version": "3.11.5"
  }
 },
 "nbformat": 4,
 "nbformat_minor": 5
}
